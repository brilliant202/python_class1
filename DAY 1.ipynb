{
 "cells": [
  {
   "cell_type": "code",
   "execution_count": 2,
   "id": "0d6aa099",
   "metadata": {},
   "outputs": [],
   "source": [
    "Number = 10\n",
    "xyxyxyxy= 25.36\n",
    "num_two= 48"
   ]
  },
  {
   "cell_type": "code",
   "execution_count": 3,
   "id": "e501980f",
   "metadata": {},
   "outputs": [],
   "source": [
    "num1 = 15  #integer\n",
    "num2 = 25.0 # float\n",
    "word = 'python' # string   #FOUR TYPES OF DATA TYPE WE HAVE\n",
    "X = True #booleans"
   ]
  },
  {
   "cell_type": "code",
   "execution_count": 4,
   "id": "e93c5574",
   "metadata": {},
   "outputs": [
    {
     "name": "stdout",
     "output_type": "stream",
     "text": [
      "15\n"
     ]
    }
   ],
   "source": [
    "print (num1)"
   ]
  },
  {
   "cell_type": "code",
   "execution_count": 6,
   "id": "c6b911c0",
   "metadata": {},
   "outputs": [
    {
     "name": "stdout",
     "output_type": "stream",
     "text": [
      "we're brothers from the other town\n"
     ]
    }
   ],
   "source": [
    "# escape character \\\n",
    "word2 = 'we\\'re brothers from the other town'\n",
    "print (word2)"
   ]
  },
  {
   "cell_type": "code",
   "execution_count": 7,
   "id": "182177ec",
   "metadata": {},
   "outputs": [
    {
     "name": "stdout",
     "output_type": "stream",
     "text": [
      "python is fun\n",
      "Python is easy\n",
      "Python is great\n"
     ]
    }
   ],
   "source": [
    "# new line\\n\n",
    "word3 = 'python is fun\\nPython is easy\\nPython is great'\n",
    "print (word3)"
   ]
  },
  {
   "cell_type": "code",
   "execution_count": 1,
   "id": "cd124187",
   "metadata": {},
   "outputs": [
    {
     "name": "stdout",
     "output_type": "stream",
     "text": [
      "python is fun\n",
      "python is great\n",
      "python is easy\n",
      "python is fun\n",
      "\n"
     ]
    }
   ],
   "source": [
    "# multiline string ''' ''' or \"\"\" \"\"\"\n",
    "word4 = '''python is fun\n",
    "python is great\n",
    "python is easy\n",
    "python is fun\n",
    "'''\n",
    "print (word4)"
   ]
  },
  {
   "cell_type": "code",
   "execution_count": 15,
   "id": "4bc2e9ff",
   "metadata": {},
   "outputs": [
    {
     "name": "stdout",
     "output_type": "stream",
     "text": [
      "i sold 5 shirts for 15000, 2 jacket for 6000 and a shoe for 8000\n"
     ]
    }
   ],
   "source": [
    "# string formatting\n",
    "price1 = 8000\n",
    "price2 = 15000\n",
    "price3 = 6000\n",
    "report = 'i sold 5 shirts for {}, 2 jacket for {} and a shoe for {}'\n",
    "print (report.format(price2,price3,price1))\n"
   ]
  },
  {
   "cell_type": "code",
   "execution_count": 17,
   "id": "7de01025",
   "metadata": {},
   "outputs": [
    {
     "name": "stdout",
     "output_type": "stream",
     "text": [
      "i sold 5 shirts for 8000, 2 jacket for 6000 and a shoe for 15000\n"
     ]
    }
   ],
   "source": [
    "print (f'i sold 5 shirts for {price1}, 2 jacket for {price3} and a shoe for {price2}')"
   ]
  },
  {
   "cell_type": "code",
   "execution_count": 20,
   "id": "e716c50a",
   "metadata": {},
   "outputs": [
    {
     "name": "stdout",
     "output_type": "stream",
     "text": [
      "hello world\n"
     ]
    }
   ],
   "source": [
    "# string concatenation \n",
    "print ('hello' + ' world') #joining of string and string"
   ]
  },
  {
   "cell_type": "code",
   "execution_count": 21,
   "id": "5b362fa2",
   "metadata": {},
   "outputs": [
    {
     "name": "stdout",
     "output_type": "stream",
     "text": [
      "welcome to python class Ade\n"
     ]
    }
   ],
   "source": [
    "name = 'Ade'\n",
    "print('welcome to python class ' + name) #joining of string and variable holding string value#"
   ]
  },
  {
   "cell_type": "code",
   "execution_count": 22,
   "id": "75d7e843",
   "metadata": {},
   "outputs": [
    {
     "name": "stdout",
     "output_type": "stream",
     "text": [
      "PYTHON IS FUN\n",
      "PYTHON IS GREAT\n",
      "PYTHON IS EASY\n",
      "PYTHON IS FUN\n",
      "\n"
     ]
    }
   ],
   "source": [
    "# string method  #means function only applicable to string\n",
    "print (word4. upper())\n"
   ]
  },
  {
   "cell_type": "code",
   "execution_count": 23,
   "id": "144f296e",
   "metadata": {},
   "outputs": [
    {
     "name": "stdout",
     "output_type": "stream",
     "text": [
      "python is fun\n",
      "python is great\n",
      "python is easy\n",
      "python is fun\n",
      "\n"
     ]
    }
   ],
   "source": [
    "print(word4.lower())"
   ]
  },
  {
   "cell_type": "code",
   "execution_count": 24,
   "id": "1b0a44b3",
   "metadata": {},
   "outputs": [
    {
     "name": "stdout",
     "output_type": "stream",
     "text": [
      "Python is fun\n",
      "python is great\n",
      "python is easy\n",
      "python is fun\n",
      "\n"
     ]
    }
   ],
   "source": [
    "print(word4.capitalize())"
   ]
  },
  {
   "cell_type": "code",
   "execution_count": 25,
   "id": "1e8e1c0a",
   "metadata": {},
   "outputs": [
    {
     "name": "stdout",
     "output_type": "stream",
     "text": [
      "Python Is Fun\n",
      "Python Is Great\n",
      "Python Is Easy\n",
      "Python Is Fun\n",
      "\n"
     ]
    }
   ],
   "source": [
    "print(word4.title())"
   ]
  },
  {
   "cell_type": "code",
   "execution_count": 26,
   "id": "1582985d",
   "metadata": {},
   "outputs": [
    {
     "name": "stdout",
     "output_type": "stream",
     "text": [
      "['python', 'is', 'fun', 'python', 'is', 'great', 'python', 'is', 'easy', 'python', 'is', 'fun']\n"
     ]
    }
   ],
   "source": [
    "print(word4.split())"
   ]
  },
  {
   "cell_type": "code",
   "execution_count": 28,
   "id": "00bde93b",
   "metadata": {},
   "outputs": [
    {
     "name": "stdout",
     "output_type": "stream",
     "text": [
      "45\n"
     ]
    }
   ],
   "source": [
    "# data type conversion\n",
    "number1 = int(45.58)     #FLOAT CAN BE CONVERTED TO INTEGER\n",
    "print(number1)"
   ]
  },
  {
   "cell_type": "code",
   "execution_count": 29,
   "id": "9c5503b0",
   "metadata": {},
   "outputs": [
    {
     "name": "stdout",
     "output_type": "stream",
     "text": [
      "45.0\n"
     ]
    }
   ],
   "source": [
    "print(float(number1))     #INTEGER CAN BE CONVERTED TO FLOAT "
   ]
  },
  {
   "cell_type": "code",
   "execution_count": 32,
   "id": "02699ea8",
   "metadata": {},
   "outputs": [
    {
     "name": "stdout",
     "output_type": "stream",
     "text": [
      "15\n",
      "45.23\n"
     ]
    }
   ],
   "source": [
    "print(str(15))\n",
    "print(str(45.23))  #INTEGER AND FLOAT CAN BE CONVERTED TO STRING"
   ]
  },
  {
   "cell_type": "code",
   "execution_count": 33,
   "id": "e64d45bd",
   "metadata": {},
   "outputs": [
    {
     "name": "stdout",
     "output_type": "stream",
     "text": [
      "48.0\n"
     ]
    }
   ],
   "source": [
    "print (float('48')) #STRING CANNOT BE CONVERTED TO INTEGER OR FLOAT EXCEPT THE VALUE IS IN BASE 10"
   ]
  },
  {
   "cell_type": "code",
   "execution_count": 35,
   "id": "aaf41f64",
   "metadata": {},
   "outputs": [
    {
     "name": "stdout",
     "output_type": "stream",
     "text": [
      "please enter your name:EUGENE\n"
     ]
    }
   ],
   "source": [
    "#input function \n",
    "name = input ('please enter your name:')"
   ]
  },
  {
   "cell_type": "code",
   "execution_count": 36,
   "id": "b7174248",
   "metadata": {},
   "outputs": [
    {
     "name": "stdout",
     "output_type": "stream",
     "text": [
      "<class 'str'>\n"
     ]
    }
   ],
   "source": [
    "print(type(name))"
   ]
  },
  {
   "cell_type": "code",
   "execution_count": 37,
   "id": "979ed223",
   "metadata": {},
   "outputs": [
    {
     "name": "stdout",
     "output_type": "stream",
     "text": [
      "please enter your age:48\n"
     ]
    }
   ],
   "source": [
    "age = int(input('please enter your age:'))"
   ]
  },
  {
   "cell_type": "code",
   "execution_count": null,
   "id": "fa880324",
   "metadata": {},
   "outputs": [],
   "source": []
  }
 ],
 "metadata": {
  "kernelspec": {
   "display_name": "Python 3 (ipykernel)",
   "language": "python",
   "name": "python3"
  },
  "language_info": {
   "codemirror_mode": {
    "name": "ipython",
    "version": 3
   },
   "file_extension": ".py",
   "mimetype": "text/x-python",
   "name": "python",
   "nbconvert_exporter": "python",
   "pygments_lexer": "ipython3",
   "version": "3.11.5"
  }
 },
 "nbformat": 4,
 "nbformat_minor": 5
}
